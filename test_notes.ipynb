{
 "cells": [
  {
   "cell_type": "markdown",
   "metadata": {},
   "source": [
    "# combine image and product detail dataset to index image to details"
   ]
  },
  {
   "cell_type": "code",
   "execution_count": 32,
   "metadata": {},
   "outputs": [
    {
     "name": "stdout",
     "output_type": "stream",
     "text": [
      "Products dataset: 7156\n",
      "Image dataset 12604\n",
      "Combined products dataframe: 12604\n",
      "Cleaned products dataframe: 12604 some products have mulitple images\n",
      "                             product_id  \\\n",
      "0  243809c0-9cfc-4486-ad12-3b7a16605ba9   \n",
      "1  1c58d3f9-8b93-47ea-9415-204fcc2a22e6   \n",
      "2  1c58d3f9-8b93-47ea-9415-204fcc2a22e6   \n",
      "3  860673f1-57f6-47ba-8d2f-13f9e05b8f9a   \n",
      "4  59948726-29be-4b35-ade5-bb2fd7331856   \n",
      "\n",
      "                                        product_name  \\\n",
      "0  Mirror wall art | in Wokingham, Berkshire | Gu...   \n",
      "1  Stainless Steel Food Steamer | in Inverness, H...   \n",
      "2  Stainless Steel Food Steamer | in Inverness, H...   \n",
      "3  Sun loungers | in Skegness, Lincolnshire | Gum...   \n",
      "4  Coffee side table from Ammunition ammo box hai...   \n",
      "\n",
      "                                            category  \\\n",
      "0  Home & Garden / Dining, Living Room Furniture ...   \n",
      "1              Home & Garden / Other Household Goods   \n",
      "2              Home & Garden / Other Household Goods   \n",
      "3  Home & Garden / Garden & Patio / Outdoor Setti...   \n",
      "4  Home & Garden / Dining, Living Room Furniture ...   \n",
      "\n",
      "                                 product_description  price  \\\n",
      "0  Mirror wall art. Posted by Nisha in Dining, Li...    5.0   \n",
      "1  Morphy Richard’s (model no 48755)Stainless ste...   20.0   \n",
      "2  Morphy Richard’s (model no 48755)Stainless ste...   20.0   \n",
      "3  I have 2 of these - collection only as I don’t...   20.0   \n",
      "4  Great reclaimed army ammunition box used as co...  115.0   \n",
      "\n",
      "                 location                             images_id  \n",
      "0    Wokingham, Berkshire  64aa79f3-e9fa-417c-a332-714b8ce933f1  \n",
      "1     Inverness, Highland  4e670f9e-7feb-458f-b529-ac52547abe2b  \n",
      "2     Inverness, Highland  a864ee52-d91e-46e7-94d1-2418e9bb2877  \n",
      "3  Skegness, Lincolnshire  bfe77c38-c9eb-47fb-b3d6-31ffdefb6ff9  \n",
      "4      Radstock, Somerset  698870d7-8bed-474a-879b-61d8338359fd  \n"
     ]
    }
   ],
   "source": [
    "import pandas as pd\n",
    "products_df = pd.read_csv('Products.csv', lineterminator='\\n')\n",
    "df = products_df.rename(columns={'id':'product_id'})\n",
    "print(f'Products dataset: {len(df)}')\n",
    "images_df = pd.read_csv('Images.csv', lineterminator='\\n')\n",
    "idf = images_df.rename(columns={'id':'images_id'})\n",
    "print(f'Image dataset {len(idf)}')\n",
    "combined_df = pd.merge(df, idf, how=\"inner\", on=[\"product_id\"])\n",
    "combined_df.drop(combined_df.columns[combined_df.columns.str.contains('unnamed',case = False)],axis = 1, inplace = True)\n",
    "print(f'Combined products dataframe: {len(combined_df)}')\n",
    "combined_df['price'] = combined_df['price'].replace('[\\£,]', '', regex=True).astype(float)\n",
    "combined_df['price'] = pd.to_numeric(combined_df['price'], errors='coerce')\n",
    "cleaned_df = combined_df.dropna()\n",
    "print(f'Cleaned products dataframe: {len(cleaned_df)} some products have mulitple images')\n",
    "print(cleaned_df.head())"
   ]
  }
 ],
 "metadata": {
  "kernelspec": {
   "display_name": "Python 3.10.7 ('env': venv)",
   "language": "python",
   "name": "python3"
  },
  "language_info": {
   "codemirror_mode": {
    "name": "ipython",
    "version": 3
   },
   "file_extension": ".py",
   "mimetype": "text/x-python",
   "name": "python",
   "nbconvert_exporter": "python",
   "pygments_lexer": "ipython3",
   "version": "3.10.7"
  },
  "orig_nbformat": 4,
  "vscode": {
   "interpreter": {
    "hash": "a11a514159b3701795a11657a6bac6f4e3a76f4e3f8f10a2af269858ba088f2f"
   }
  }
 },
 "nbformat": 4,
 "nbformat_minor": 2
}
